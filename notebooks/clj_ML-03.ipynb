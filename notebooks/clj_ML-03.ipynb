{
 "cells": [
  {
   "cell_type": "markdown",
   "id": "dadad318-6c5a-436c-a3db-1be246040a27",
   "metadata": {},
   "source": [
    "## Machine Learning Exercise 3: Bias and Variance ##"
   ]
  },
  {
   "cell_type": "markdown",
   "id": "c61f777e-ea53-4564-9dc5-39b0b875236c",
   "metadata": {},
   "source": [
    "**Bias** refers to the error introduced by approximating a complex real-world problem with a simplified model, while **variance** refers to the model's sensitivity to fluctuations in the training data. A linear regression model has high bias and low variance; it makes strong assumptions about the data (linearity) but is stable across different datasets. If these strong assumptions are not correct, there will be places where it systematically overestimates or underestimates. In contrast, a decision tree model has low bias and high variance; it can capture complex patterns but is prone to overfitting, especially if deep and unpruned. This means that it can start to memorize the training data rather than capturing patterns that generalize."
   ]
  },
  {
   "cell_type": "code",
   "execution_count": 182,
   "id": "178cf76b-5eef-434a-9ba1-c64488b1358c",
   "metadata": {},
   "outputs": [],
   "source": [
    "import pandas as pd\n",
    "import matplotlib.pyplot as plt\n",
    "import seaborn as sns\n",
    "import numpy as np\n",
    "from sklearn.model_selection import train_test_split, GridSearchCV\n",
    "from sklearn.linear_model import(\n",
    "    LogisticRegression, \n",
    "    LinearRegression,\n",
    "    RidgeCV,\n",
    "    LassoCV\n",
    ")\n",
    "from sklearn.metrics import( \n",
    "    confusion_matrix, \n",
    "    RocCurveDisplay, \n",
    "    classification_report, \n",
    "    r2_score, \n",
    "    mean_squared_error, \n",
    "    root_mean_squared_error, \n",
    "    mean_absolute_error, \n",
    "    mean_absolute_percentage_error,\n",
    "    make_scorer\n",
    ")\n",
    "from sklearn.preprocessing import StandardScaler, PolynomialFeatures\n",
    "from sklearn.pipeline import Pipeline\n",
    "from sklearn.tree import DecisionTreeRegressor"
   ]
  },
  {
   "cell_type": "code",
   "execution_count": 4,
   "id": "16e8e857-dd47-4f30-b89c-a19b88f44054",
   "metadata": {},
   "outputs": [
    {
     "data": {
      "text/html": [
       "<div>\n",
       "<style scoped>\n",
       "    .dataframe tbody tr th:only-of-type {\n",
       "        vertical-align: middle;\n",
       "    }\n",
       "\n",
       "    .dataframe tbody tr th {\n",
       "        vertical-align: top;\n",
       "    }\n",
       "\n",
       "    .dataframe thead th {\n",
       "        text-align: right;\n",
       "    }\n",
       "</style>\n",
       "<table border=\"1\" class=\"dataframe\">\n",
       "  <thead>\n",
       "    <tr style=\"text-align: right;\">\n",
       "      <th></th>\n",
       "      <th>id</th>\n",
       "      <th>date</th>\n",
       "      <th>price</th>\n",
       "      <th>bedrooms</th>\n",
       "      <th>bathrooms</th>\n",
       "      <th>sqft_living</th>\n",
       "      <th>sqft_lot</th>\n",
       "      <th>floors</th>\n",
       "      <th>waterfront</th>\n",
       "      <th>view</th>\n",
       "      <th>...</th>\n",
       "      <th>grade</th>\n",
       "      <th>sqft_above</th>\n",
       "      <th>sqft_basement</th>\n",
       "      <th>yr_built</th>\n",
       "      <th>yr_renovated</th>\n",
       "      <th>zipcode</th>\n",
       "      <th>lat</th>\n",
       "      <th>long</th>\n",
       "      <th>sqft_living15</th>\n",
       "      <th>sqft_lot15</th>\n",
       "    </tr>\n",
       "  </thead>\n",
       "  <tbody>\n",
       "    <tr>\n",
       "      <th>3308</th>\n",
       "      <td>1938400300</td>\n",
       "      <td>20140708T000000</td>\n",
       "      <td>245000.0</td>\n",
       "      <td>4</td>\n",
       "      <td>2.25</td>\n",
       "      <td>2600</td>\n",
       "      <td>6390</td>\n",
       "      <td>1.0</td>\n",
       "      <td>0</td>\n",
       "      <td>0</td>\n",
       "      <td>...</td>\n",
       "      <td>8</td>\n",
       "      <td>1390</td>\n",
       "      <td>1210</td>\n",
       "      <td>1978</td>\n",
       "      <td>0</td>\n",
       "      <td>98023</td>\n",
       "      <td>47.3174</td>\n",
       "      <td>-122.366</td>\n",
       "      <td>2110</td>\n",
       "      <td>6700</td>\n",
       "    </tr>\n",
       "    <tr>\n",
       "      <th>15521</th>\n",
       "      <td>3052700225</td>\n",
       "      <td>20140814T000000</td>\n",
       "      <td>727160.0</td>\n",
       "      <td>7</td>\n",
       "      <td>3.75</td>\n",
       "      <td>2310</td>\n",
       "      <td>5000</td>\n",
       "      <td>2.0</td>\n",
       "      <td>0</td>\n",
       "      <td>0</td>\n",
       "      <td>...</td>\n",
       "      <td>8</td>\n",
       "      <td>2310</td>\n",
       "      <td>0</td>\n",
       "      <td>1984</td>\n",
       "      <td>0</td>\n",
       "      <td>98117</td>\n",
       "      <td>47.6781</td>\n",
       "      <td>-122.376</td>\n",
       "      <td>1360</td>\n",
       "      <td>1552</td>\n",
       "    </tr>\n",
       "    <tr>\n",
       "      <th>13162</th>\n",
       "      <td>1072100085</td>\n",
       "      <td>20140514T000000</td>\n",
       "      <td>310000.0</td>\n",
       "      <td>3</td>\n",
       "      <td>1.00</td>\n",
       "      <td>1480</td>\n",
       "      <td>7830</td>\n",
       "      <td>1.0</td>\n",
       "      <td>0</td>\n",
       "      <td>0</td>\n",
       "      <td>...</td>\n",
       "      <td>7</td>\n",
       "      <td>1480</td>\n",
       "      <td>0</td>\n",
       "      <td>1952</td>\n",
       "      <td>0</td>\n",
       "      <td>98133</td>\n",
       "      <td>47.7703</td>\n",
       "      <td>-122.336</td>\n",
       "      <td>1450</td>\n",
       "      <td>7830</td>\n",
       "    </tr>\n",
       "  </tbody>\n",
       "</table>\n",
       "<p>3 rows × 21 columns</p>\n",
       "</div>"
      ],
      "text/plain": [
       "               id             date     price  bedrooms  bathrooms  \\\n",
       "3308   1938400300  20140708T000000  245000.0         4       2.25   \n",
       "15521  3052700225  20140814T000000  727160.0         7       3.75   \n",
       "13162  1072100085  20140514T000000  310000.0         3       1.00   \n",
       "\n",
       "       sqft_living  sqft_lot  floors  waterfront  view  ...  grade  \\\n",
       "3308          2600      6390     1.0           0     0  ...      8   \n",
       "15521         2310      5000     2.0           0     0  ...      8   \n",
       "13162         1480      7830     1.0           0     0  ...      7   \n",
       "\n",
       "       sqft_above  sqft_basement  yr_built  yr_renovated  zipcode      lat  \\\n",
       "3308         1390           1210      1978             0    98023  47.3174   \n",
       "15521        2310              0      1984             0    98117  47.6781   \n",
       "13162        1480              0      1952             0    98133  47.7703   \n",
       "\n",
       "          long  sqft_living15  sqft_lot15  \n",
       "3308  -122.366           2110        6700  \n",
       "15521 -122.376           1360        1552  \n",
       "13162 -122.336           1450        7830  \n",
       "\n",
       "[3 rows x 21 columns]"
      ]
     },
     "execution_count": 4,
     "metadata": {},
     "output_type": "execute_result"
    }
   ],
   "source": [
    "data = pd.read_csv('../data/kc_house_data.csv')\n",
    "\n",
    "data.sample(3)"
   ]
  },
  {
   "cell_type": "markdown",
   "id": "aa716a00-6b67-42eb-9efd-219c1d538ce1",
   "metadata": {},
   "source": [
    "1. Fit a linear regression model to the housing data, using sqft_living to predict price. Check the mean squared error on the training data and the test data."
   ]
  },
  {
   "cell_type": "code",
   "execution_count": 6,
   "id": "36ea72ed-b3c7-44eb-944e-8f893fddb769",
   "metadata": {
    "scrolled": true
   },
   "outputs": [
    {
     "name": "stdout",
     "output_type": "stream",
     "text": [
      "MSE_test: 66079560485.167015\n",
      "MSE_train: 427016656868.78235"
     ]
    }
   ],
   "source": [
    "model = LinearRegression()\n",
    "\n",
    "X = data[['sqft_living']]\n",
    "y = data['price']\n",
    "\n",
    "X_train, X_test, y_train, y_test = train_test_split(X, y, test_size=0.3, random_state=321)\n",
    "\n",
    "model.fit(X_train, y_train)\n",
    "y_pred = model.predict(X_test)\n",
    "\n",
    "print(f'MSE_test: {mean_squared_error(y_test, y_pred)}', end = '\\n' \n",
    "      f'MSE_train: {mean_squared_error(X_train, y_train)}')"
   ]
  },
  {
   "cell_type": "markdown",
   "id": "e892446f-6ea4-4e0c-8bf8-a4bf7a319597",
   "metadata": {},
   "source": [
    "2. Repeat this but with a [DecisionTreeRegresor](https://scikit-learn.org/stable/modules/generated/sklearn.tree.DecisionTreeRegressor.html). Again check the mean squared error on the training data and the test data. How does what you see differ from the linear regression model?"
   ]
  },
  {
   "cell_type": "code",
   "execution_count": 8,
   "id": "f6c4a8ae-f65c-4ac5-8e18-b7a3f060e00a",
   "metadata": {},
   "outputs": [
    {
     "name": "stdout",
     "output_type": "stream",
     "text": [
      "MSE_test: 73538459276.97156\n",
      "MSE_train: 427016656868.78235"
     ]
    }
   ],
   "source": [
    "model = DecisionTreeRegressor(criterion = 'squared_error')\n",
    "\n",
    "X = data[['sqft_living']]\n",
    "y = data['price']\n",
    "\n",
    "X_train, X_test, y_train, y_test = train_test_split(X, y, test_size=0.3, random_state=321)\n",
    "\n",
    "model.fit(X_train, y_train)\n",
    "y_pred = model.predict(X_test)\n",
    "\n",
    "print(f'MSE_test: {mean_squared_error(y_test, y_pred)}', end = '\\n' \n",
    "      f'MSE_train: {mean_squared_error(X_train, y_train)}')"
   ]
  },
  {
   "cell_type": "markdown",
   "id": "3e101169-53a6-44f3-920d-8d61787d9bf3",
   "metadata": {},
   "source": [
    "One way of avoiding overfitting is by restricting the flexibility of the model. We can do this with a decision tree by restricting the number of splits that it can perform. \r\n",
    "\r\n",
    "3. Fit a DecisionTreeRegressor where you restrict the max_depth to 5. Again check the mean squared error on the training data and the test data. What do you notice now?"
   ]
  },
  {
   "cell_type": "code",
   "execution_count": 10,
   "id": "7f931937-9eab-483a-9508-7d7eb193e9f0",
   "metadata": {},
   "outputs": [
    {
     "name": "stdout",
     "output_type": "stream",
     "text": [
      "MSE_test: 62926561451.64904\n",
      "MSE_train: 427016656868.78235"
     ]
    }
   ],
   "source": [
    "model = DecisionTreeRegressor(criterion = 'squared_error', max_depth = 5)\n",
    "\n",
    "X = data[['sqft_living']]\n",
    "y = data['price']\n",
    "\n",
    "X_train, X_test, y_train, y_test = train_test_split(X, y, test_size=0.3, random_state=321)\n",
    "\n",
    "model.fit(X_train, y_train)\n",
    "y_pred = model.predict(X_test)\n",
    "y_pred_train = model.predict(X_train)\n",
    "\n",
    "print(f'MSE_test: {mean_squared_error(y_test, y_pred)}', end = '\\n' \n",
    "      f'MSE_train: {mean_squared_error(X_pred_train, y_train)}')"
   ]
  },
  {
   "cell_type": "markdown",
   "id": "b0d0c87a-eb92-4061-8d26-295f108de604",
   "metadata": {},
   "source": [
    "When working with machine learning models, we often have to balance bias and variance. This is called the [bias-variance tradeoff](https://en.wikipedia.org/wiki/Bias%E2%80%93variance_tradeoff). One method of this is through [regularization](https://www.ibm.com/think/topics/regularization), where we restrict the complexity of the model, adding some bias but reducing the variance, which can lead to a lower mean squared error on the test set.\r\n",
    "\r\n",
    "Lasso and ridge regression do this by adding a penalty term based on the size of the coefficients. Smaller coefficients mens that the model has less flexibility. The neat thing about these types of models is that they determine how to allocate the coefficients automatically as part of the model fitting process, so we can start with a large set of potential predictors and allow the model fitting to determine which ones to focus on.\r\n",
    "\r\n",
    "For the next part of the exercise, we'll see how we can add complexity to our model but control the complexity through regularization."
   ]
  },
  {
   "cell_type": "markdown",
   "id": "33e5255d-5380-4045-9591-b1bcdc52753f",
   "metadata": {},
   "source": [
    "4. So far, we've only been predicting based off of the square footage of living space. Fit a new linear regression model using all variables besides id, date, price, and zipcode. How well does this model perform on the test set compared to the model with just square footage of living space?"
   ]
  },
  {
   "cell_type": "code",
   "execution_count": 32,
   "id": "33182bda-ee65-432e-b598-748f6ef889b0",
   "metadata": {},
   "outputs": [
    {
     "name": "stdout",
     "output_type": "stream",
     "text": [
      "MSE_test: 41757655724.75456\n",
      "MSE_train: 40804822162.2284"
     ]
    }
   ],
   "source": [
    "model = LinearRegression()\n",
    "\n",
    "data_new = data.drop(columns = ['id', 'date', 'price', 'zipcode'])\n",
    "\n",
    "X = data_new\n",
    "y = data['price']\n",
    "X_train, X_test, y_train, y_test = train_test_split(X, y, test_size=0.3, random_state=321)\n",
    "\n",
    "model.fit(X_train, y_train)\n",
    "y_pred = model.predict(X_test)\n",
    "y_pred_train = model.predict(X_train)\n",
    "\n",
    "print(f'MSE_test: {mean_squared_error(y_test, y_pred)}', end = '\\n'\n",
    "      f'MSE_train:{mean_squared_error(y_train, y_pred_train)}')"
   ]
  },
  {
   "cell_type": "markdown",
   "id": "2d2d337b-d6ca-4dc0-93e9-07d136b91fb8",
   "metadata": {},
   "source": [
    "5. Try fitting a lasso and ridge model. Becuase lasso and ridge have penalty terms based on the size of the coefficients, and the size of thae coefficients depends on the scale of the variable, you'll want to scale the features first so that they are on comparable scales. Create a [Pipeline](https://scikit-learn.org/stable/modules/generated/sklearn.pipeline.Pipeline.html) object where the first step is applying a [StandardScaler](https://scikit-learn.org/stable/modules/generated/sklearn.preprocessing.StandardScaler.html) and the second step is either a lasso or ridge model. Because these models have a hyperparameter controlling regularization strength, you'll want to use the [LassoCV](https://scikit-learn.org/stable/modules/generated/sklearn.linear_model.LassoCV.html) and [RidgeCV](https://scikit-learn.org/stable/modules/generated/sklearn.linear_model.RidgeCV.html) models, which will select values for the regularization strength using cross-validation."
   ]
  },
  {
   "cell_type": "code",
   "execution_count": 60,
   "id": "1f608fae-afb2-40da-a6c7-0b9a77a40479",
   "metadata": {},
   "outputs": [
    {
     "name": "stdout",
     "output_type": "stream",
     "text": [
      "MSE_test: 41770331754.19049\n",
      "MSE_train: 40806129474.58575"
     ]
    }
   ],
   "source": [
    "# Lasso Regression\n",
    "data_new = data.drop(columns = ['id', 'date', 'price', 'zipcode'])\n",
    "\n",
    "X = data_new\n",
    "y = data['price']\n",
    "\n",
    "X_train, X_test, y_train, y_test = train_test_split(X, y, test_size=0.3, random_state=321)\n",
    "\n",
    "pipe = Pipeline(steps = [('scaler', StandardScaler()),\n",
    "         ('lasso', LassoCV())])\n",
    "\n",
    "pipe.fit(X_train, y_train)\n",
    "y_pred = pipe.predict(X_test)\n",
    "\n",
    "y_pred_train = pipe.predict(X_train)\n",
    "\n",
    "print(f'MSE_test: {mean_squared_error(y_test, y_pred)}', end = '\\n'\n",
    "      f'MSE_train:{mean_squared_error(y_train, y_pred_train)}')"
   ]
  },
  {
   "cell_type": "code",
   "execution_count": 62,
   "id": "1a530d90-1040-4b7d-83c7-de707f9ae759",
   "metadata": {},
   "outputs": [
    {
     "name": "stdout",
     "output_type": "stream",
     "text": [
      "MSE_test: 41757913805.375755\n",
      "MSE_train: 40804846790.29052"
     ]
    }
   ],
   "source": [
    "# Ridge Regression\n",
    "data_new = data.drop(columns = ['id', 'date', 'price', 'zipcode'])\n",
    "\n",
    "X = data_new\n",
    "y = data['price']\n",
    "\n",
    "X_train, X_test, y_train, y_test = train_test_split(X, y, test_size=0.3, random_state=321)\n",
    "\n",
    "pipe = Pipeline(steps = [('scaler', StandardScaler()),\n",
    "         ('ridge', RidgeCV())])\n",
    "\n",
    "pipe.fit(X_train, y_train)\n",
    "y_pred = pipe.predict(X_test)\n",
    "\n",
    "y_pred_train = pipe.predict(X_train)\n",
    "\n",
    "print(f'MSE_test: {mean_squared_error(y_test, y_pred)}', end = '\\n'\n",
    "      f'MSE_train:{mean_squared_error(y_train, y_pred_train)}')\n"
   ]
  },
  {
   "cell_type": "markdown",
   "id": "da49fe29-c725-4da9-82e9-d2c7af882a6c",
   "metadata": {},
   "source": [
    "You likely didn't see much difference between the regular linear regression model and the lasso or ridge model. Let's see what happens if we add more complexity through feature interactions. We can capture more complex relationships between the predictor variables and the target variable by multiplying the predictors together before fitting the model. For example, the interaction between sqft_living and bedrooms will let the model capture if the impact of square footage depends on the number of bedrooms.\r\n",
    "\r\n",
    "6. Add [PolynomialFeatures](https://scikit-learn.org/stable/modules/generated/sklearn.preprocessing.PolynomialFeatures.html) to your pipeline after the standard scaler. Try using degree 2 features. How does this change the performance of the regular linear regression model, the lasso model, and the ridge model? "
   ]
  },
  {
   "cell_type": "code",
   "execution_count": 82,
   "id": "7f51ca98-2c62-44cc-a033-3ba574df0a93",
   "metadata": {},
   "outputs": [
    {
     "name": "stdout",
     "output_type": "stream",
     "text": [
      "MSE_test: 25216536774.624573\n",
      "MSE_train: 26353345246.66341"
     ]
    }
   ],
   "source": [
    "# Lasso Regression polynomial\n",
    "data_new = data.drop(columns = ['id', 'date', 'price', 'zipcode'])\n",
    "\n",
    "X = data_new\n",
    "y = data['price']\n",
    "\n",
    "X_train, X_test, y_train, y_test = train_test_split(X, y, test_size=0.3, random_state=321)\n",
    "\n",
    "lasso_pipe = Pipeline(steps = [('scaler', StandardScaler()),\n",
    "                         ('poly', PolynomialFeatures(degree=2)),\n",
    "                         ('lasso', LassoCV())])\n",
    "\n",
    "lasso_pipe.fit(X_train, y_train)\n",
    "y_pred = lasso_pipe.predict(X_test)\n",
    "\n",
    "y_pred_train = lasso_pipe.predict(X_train)\n",
    "\n",
    "print(f'MSE_test: {mean_squared_error(y_test, y_pred)}', end = '\\n'\n",
    "      f'MSE_train:{mean_squared_error(y_train, y_pred_train)}')"
   ]
  },
  {
   "cell_type": "code",
   "execution_count": 84,
   "id": "1476081e-eb5d-41c1-816e-6f3ff70511d7",
   "metadata": {},
   "outputs": [
    {
     "name": "stdout",
     "output_type": "stream",
     "text": [
      "MSE_test: 25216536774.624573\n",
      "MSE_train: 25611197675.461464"
     ]
    }
   ],
   "source": [
    "#Ridge regression polynomial\n",
    "data_new = data.drop(columns = ['id', 'date', 'price', 'zipcode'])\n",
    "\n",
    "X = data_new\n",
    "y = data['price']\n",
    "\n",
    "X_train, X_test, y_train, y_test = train_test_split(X, y, test_size=0.3, random_state=321)\n",
    "\n",
    "ridge_pipe = Pipeline(steps = [('scaler', StandardScaler()),\n",
    "                         ('poly', PolynomialFeatures(degree=2)),\n",
    "                         ('ridge', RidgeCV())])\n",
    "\n",
    "ridge_pipe.fit(X_train, y_train)\n",
    "y_pred = ridge_pipe.predict(X_test)\n",
    "\n",
    "y_pred_train = ridge_pipe.predict(X_train)\n",
    "\n",
    "print(f'MSE_test: {mean_squared_error(y_test, y_pred)}', end = '\\n'\n",
    "      f'MSE_train:{mean_squared_error(y_train, y_pred_train)}')"
   ]
  },
  {
   "cell_type": "markdown",
   "id": "7a84af8b-4992-4d26-99d8-975559d52738",
   "metadata": {},
   "source": [
    "The lasso penalty tends to cause some coeffients to zero out, so it can be viewed as a method of automatic feature selection.\r\n",
    "\r\n",
    "7. Look at the set of coefficients for the lasso model. What percentage of the coefficients are zero? What are the largest non-zero coefficients?"
   ]
  },
  {
   "cell_type": "code",
   "execution_count": 122,
   "id": "ab893a60-8748-4253-b235-326150200e93",
   "metadata": {},
   "outputs": [
    {
     "data": {
      "text/plain": [
       "'49%'"
      ]
     },
     "execution_count": 122,
     "metadata": {},
     "output_type": "execute_result"
    }
   ],
   "source": [
    "lasso_cv = lasso_pipe[-1]\n",
    "\n",
    "arr = lasso_cv.coef_\n",
    "\n",
    "zeroes = np.count_nonzero(arr==0)\n",
    "values = len(arr)\n",
    "\n",
    "percent = str(round(zeroes / values * 100)) + '%'\n",
    "\n",
    "percent"
   ]
  },
  {
   "cell_type": "code",
   "execution_count": 144,
   "id": "95a1344a-d326-4d2b-aa55-7dc9a7c63ce5",
   "metadata": {},
   "outputs": [
    {
     "data": {
      "text/html": [
       "<div>\n",
       "<style scoped>\n",
       "    .dataframe tbody tr th:only-of-type {\n",
       "        vertical-align: middle;\n",
       "    }\n",
       "\n",
       "    .dataframe tbody tr th {\n",
       "        vertical-align: top;\n",
       "    }\n",
       "\n",
       "    .dataframe thead th {\n",
       "        text-align: right;\n",
       "    }\n",
       "</style>\n",
       "<table border=\"1\" class=\"dataframe\">\n",
       "  <thead>\n",
       "    <tr style=\"text-align: right;\">\n",
       "      <th></th>\n",
       "      <th>0</th>\n",
       "    </tr>\n",
       "  </thead>\n",
       "  <tbody>\n",
       "    <tr>\n",
       "      <th>0</th>\n",
       "      <td>96953.631743</td>\n",
       "    </tr>\n",
       "    <tr>\n",
       "      <th>1</th>\n",
       "      <td>95077.950449</td>\n",
       "    </tr>\n",
       "    <tr>\n",
       "      <th>2</th>\n",
       "      <td>70301.434205</td>\n",
       "    </tr>\n",
       "    <tr>\n",
       "      <th>3</th>\n",
       "      <td>39077.771105</td>\n",
       "    </tr>\n",
       "    <tr>\n",
       "      <th>4</th>\n",
       "      <td>38574.730072</td>\n",
       "    </tr>\n",
       "    <tr>\n",
       "      <th>5</th>\n",
       "      <td>25041.628455</td>\n",
       "    </tr>\n",
       "    <tr>\n",
       "      <th>6</th>\n",
       "      <td>22854.447805</td>\n",
       "    </tr>\n",
       "    <tr>\n",
       "      <th>7</th>\n",
       "      <td>18861.158245</td>\n",
       "    </tr>\n",
       "    <tr>\n",
       "      <th>8</th>\n",
       "      <td>17979.925325</td>\n",
       "    </tr>\n",
       "    <tr>\n",
       "      <th>9</th>\n",
       "      <td>17303.867863</td>\n",
       "    </tr>\n",
       "  </tbody>\n",
       "</table>\n",
       "</div>"
      ],
      "text/plain": [
       "              0\n",
       "0  96953.631743\n",
       "1  95077.950449\n",
       "2  70301.434205\n",
       "3  39077.771105\n",
       "4  38574.730072\n",
       "5  25041.628455\n",
       "6  22854.447805\n",
       "7  18861.158245\n",
       "8  17979.925325\n",
       "9  17303.867863"
      ]
     },
     "execution_count": 144,
     "metadata": {},
     "output_type": "execute_result"
    }
   ],
   "source": [
    "import heapq\n",
    "\n",
    "pd.DataFrame(heapq.nlargest(10, arr))"
   ]
  },
  {
   "cell_type": "code",
   "execution_count": null,
   "id": "c4d86417-56c6-421b-aaef-4ff3ba68c546",
   "metadata": {},
   "outputs": [],
   "source": [
    "coefficients = pd.DataFrame({\n",
    "'variable': pipe[:-1].get_feature_names_out(),\n",
    "'coefficient': pipe['lr'].coef_\n",
    "})"
   ]
  },
  {
   "cell_type": "markdown",
   "id": "36e1eda9-0560-4aa3-9a69-4a3853fc8f73",
   "metadata": {},
   "source": [
    "8. A new hyperparameter that we have is the degree of the polynomial we're using. So that we're not overfitting to the test set, we need to use cross-validation to select this value. Set up a [GridSearchCV](https://scikit-learn.org/stable/modules/generated/sklearn.model_selection.GridSearchCV.html) to try out polynomial degrees from 1 to 3 and to try LinearRegression, LassoCV, and RidgeCV models. Use 'neg_mean_squared_error' as the error_score. Which combination does it find does the best?\n",
    "\n",
    "**If you've reached this point, let your instructors know so that they can check in with you.**"
   ]
  },
  {
   "cell_type": "code",
   "execution_count": null,
   "id": "260fa421-e121-41ca-85f1-31351efa51f2",
   "metadata": {},
   "outputs": [],
   "source": [
    "import warnings\n",
    "warnings.filterwarnings('ignore')"
   ]
  },
  {
   "cell_type": "code",
   "execution_count": 217,
   "id": "9c2860d7-fe7a-46d9-a705-1e80225dbb0b",
   "metadata": {},
   "outputs": [
    {
     "name": "stdout",
     "output_type": "stream",
     "text": [
      "Best Parameters: {'model': LassoCV(cv=5, max_iter=10000), 'polynomialfeatures__degree': 2}\n",
      "Best Negative Mean Squared Error: -29157768309.902996\n",
      "Test Mean Squared Error: 25135804989.076473\n"
     ]
    }
   ],
   "source": [
    "#linear regression grid search\n",
    "\n",
    "data_new = data.drop(columns = ['id', 'date', 'price', 'zipcode'])\n",
    "\n",
    "X = data_new\n",
    "y = data['price']\n",
    "\n",
    "X_train, X_test, y_train, y_test = train_test_split(X, y, test_size=0.3, random_state=321)\n",
    "\n",
    "models = [\n",
    "    LinearRegression(),\n",
    "    RidgeCV(),\n",
    "    LassoCV(cv=5, max_iter = 10000)\n",
    "]\n",
    "\n",
    "param_grid = {\n",
    "    'model': models,\n",
    "    'polynomialfeatures__degree': [1, 2, 3]\n",
    "}\n",
    "\n",
    "best_neg_mse = float('inf')\n",
    "best_params = None\n",
    "\n",
    "pipeline = Pipeline([\n",
    "    ('scaler', StandardScaler()),\n",
    "    ('polynomialfeatures', PolynomialFeatures()),\n",
    "    ('model', model)\n",
    "])\n",
    "    \n",
    "grid_search = GridSearchCV(pipeline, param_grid, scoring = 'neg_mean_squared_error', cv = 5)\n",
    "grid_search.fit(X_train, y_train)\n",
    "\n",
    "if grid_search.best_score_ < best_neg_mse:\n",
    "    best_neg_mse = grid_search.best_score_\n",
    "    best_params = grid_search.best_params_\n",
    "    best_estimator = grid_search.best_estimator_\n",
    "\n",
    "y_pred = best_estimator.predict(X_test)\n",
    "test_mse = mean_squared_error(y_test, y_pred)\n",
    "\n",
    "print(f\"Best Parameters: {best_params}\")\n",
    "print(f\"Best Negative Mean Squared Error: {best_neg_mse}\")\n",
    "print(f\"Test Mean Squared Error: {test_mse}\")"
   ]
  },
  {
   "cell_type": "code",
   "execution_count": null,
   "id": "9d947d77-9326-4605-adf7-689ca49eb3e2",
   "metadata": {},
   "outputs": [],
   "source": []
  },
  {
   "cell_type": "code",
   "execution_count": null,
   "id": "0638738f-65af-4183-abc9-b84b92fdbb83",
   "metadata": {},
   "outputs": [],
   "source": []
  },
  {
   "cell_type": "code",
   "execution_count": null,
   "id": "d854a1ca-93e7-4c6f-ad18-5984c7322ce9",
   "metadata": {},
   "outputs": [],
   "source": []
  },
  {
   "cell_type": "markdown",
   "id": "c4595f55-0069-4531-b5c6-67d78b0e2d4a",
   "metadata": {},
   "source": [
    "## Stretch Goals: ##"
   ]
  },
  {
   "cell_type": "markdown",
   "id": "18444890-43eb-4e56-b735-59684b8ca397",
   "metadata": {},
   "source": [
    "1. With home prices, there are some extremely large values for price, which can overly-influence the mean squared error calculation. See what happens if you optimize for mean absolute error instead. Alternatively, try using a [TransformedTargetRegressor](https://scikit-learn.org/stable/modules/generated/sklearn.compose.TransformedTargetRegressor.html) to predict the log of price instead of the raw price."
   ]
  },
  {
   "cell_type": "code",
   "execution_count": null,
   "id": "d492b6d0-e803-4d1e-a3cf-ad5da009cd5b",
   "metadata": {},
   "outputs": [],
   "source": []
  },
  {
   "cell_type": "markdown",
   "id": "91a32614-d4a3-44c4-8f5e-d4984f59f01a",
   "metadata": {},
   "source": [
    "**Bonus Exercise** We've seen how a decision tree model has more flexibility, which mean higher variance compared to a linear regression model. One way of understanding variance is that variance describes how sensitive the model is to the training data. A model with high variance can produce vastly different predictions when trained on different subsets.\n",
    "\n",
    "In this bonus exercise, you'll get to see this in action.\r\n",
    "\r\n",
    "Generate 1000 different linear regression fits, where you only use sqft_living as the predictor variable. For each fit, choose a random sample from the full dataset of size 1000. \r\n",
    "Using the np.linspace function, generate a grid of 100 equally-spaced points between 500 and 3000 and generate predictions on those points. Plot the mean prediction, the 5th percentile, and the 95th percentile for the predictions from these thousand models. Repeat this for a decision tree model. Then do it for a decision tree model with a max_depth of 5."
   ]
  },
  {
   "cell_type": "code",
   "execution_count": null,
   "id": "160b2d3f-65f1-4155-9cac-ceeb2efa6f41",
   "metadata": {},
   "outputs": [],
   "source": []
  },
  {
   "cell_type": "markdown",
   "id": "bf55ba2d-81e0-40d1-b628-7c2c140b1f65",
   "metadata": {},
   "source": [
    "How do these predictions differ? Which have the most variability?"
   ]
  },
  {
   "cell_type": "code",
   "execution_count": null,
   "id": "4e9eda82-43f3-4797-be3b-c48de20884ac",
   "metadata": {},
   "outputs": [],
   "source": []
  }
 ],
 "metadata": {
  "kernelspec": {
   "display_name": "Python 3 (ipykernel)",
   "language": "python",
   "name": "python3"
  },
  "language_info": {
   "codemirror_mode": {
    "name": "ipython",
    "version": 3
   },
   "file_extension": ".py",
   "mimetype": "text/x-python",
   "name": "python",
   "nbconvert_exporter": "python",
   "pygments_lexer": "ipython3",
   "version": "3.12.4"
  }
 },
 "nbformat": 4,
 "nbformat_minor": 5
}
